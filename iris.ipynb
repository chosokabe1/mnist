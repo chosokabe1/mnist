{
 "cells": [
  {
   "cell_type": "code",
   "execution_count": 2,
   "metadata": {},
   "outputs": [
    {
     "data": {
      "text/plain": [
       "((150, 4), (150,))"
      ]
     },
     "execution_count": 2,
     "metadata": {},
     "output_type": "execute_result"
    }
   ],
   "source": [
    "# ====================\n",
    "# データセットの読み込み\n",
    "# ====================\n",
    "\n",
    "from sklearn.datasets import load_iris\n",
    "\n",
    "x, t = load_iris(return_X_y=True)\n",
    "\n",
    "x.shape, t.shape"
   ]
  },
  {
   "cell_type": "code",
   "execution_count": 3,
   "metadata": {},
   "outputs": [
    {
     "data": {
      "text/html": [
       "<div>\n",
       "<style scoped>\n",
       "    .dataframe tbody tr th:only-of-type {\n",
       "        vertical-align: middle;\n",
       "    }\n",
       "\n",
       "    .dataframe tbody tr th {\n",
       "        vertical-align: top;\n",
       "    }\n",
       "\n",
       "    .dataframe thead th {\n",
       "        text-align: right;\n",
       "    }\n",
       "</style>\n",
       "<table border=\"1\" class=\"dataframe\">\n",
       "  <thead>\n",
       "    <tr style=\"text-align: right;\">\n",
       "      <th></th>\n",
       "      <th>x1</th>\n",
       "      <th>x2</th>\n",
       "      <th>x3</th>\n",
       "      <th>x4</th>\n",
       "      <th>t</th>\n",
       "    </tr>\n",
       "  </thead>\n",
       "  <tbody>\n",
       "    <tr>\n",
       "      <th>0</th>\n",
       "      <td>5.1</td>\n",
       "      <td>3.5</td>\n",
       "      <td>1.4</td>\n",
       "      <td>0.2</td>\n",
       "      <td>0.0</td>\n",
       "    </tr>\n",
       "    <tr>\n",
       "      <th>1</th>\n",
       "      <td>4.9</td>\n",
       "      <td>3.0</td>\n",
       "      <td>1.4</td>\n",
       "      <td>0.2</td>\n",
       "      <td>0.0</td>\n",
       "    </tr>\n",
       "    <tr>\n",
       "      <th>2</th>\n",
       "      <td>4.7</td>\n",
       "      <td>3.2</td>\n",
       "      <td>1.3</td>\n",
       "      <td>0.2</td>\n",
       "      <td>0.0</td>\n",
       "    </tr>\n",
       "    <tr>\n",
       "      <th>3</th>\n",
       "      <td>4.6</td>\n",
       "      <td>3.1</td>\n",
       "      <td>1.5</td>\n",
       "      <td>0.2</td>\n",
       "      <td>0.0</td>\n",
       "    </tr>\n",
       "    <tr>\n",
       "      <th>4</th>\n",
       "      <td>5.0</td>\n",
       "      <td>3.6</td>\n",
       "      <td>1.4</td>\n",
       "      <td>0.2</td>\n",
       "      <td>0.0</td>\n",
       "    </tr>\n",
       "    <tr>\n",
       "      <th>...</th>\n",
       "      <td>...</td>\n",
       "      <td>...</td>\n",
       "      <td>...</td>\n",
       "      <td>...</td>\n",
       "      <td>...</td>\n",
       "    </tr>\n",
       "    <tr>\n",
       "      <th>145</th>\n",
       "      <td>6.7</td>\n",
       "      <td>3.0</td>\n",
       "      <td>5.2</td>\n",
       "      <td>2.3</td>\n",
       "      <td>2.0</td>\n",
       "    </tr>\n",
       "    <tr>\n",
       "      <th>146</th>\n",
       "      <td>6.3</td>\n",
       "      <td>2.5</td>\n",
       "      <td>5.0</td>\n",
       "      <td>1.9</td>\n",
       "      <td>2.0</td>\n",
       "    </tr>\n",
       "    <tr>\n",
       "      <th>147</th>\n",
       "      <td>6.5</td>\n",
       "      <td>3.0</td>\n",
       "      <td>5.2</td>\n",
       "      <td>2.0</td>\n",
       "      <td>2.0</td>\n",
       "    </tr>\n",
       "    <tr>\n",
       "      <th>148</th>\n",
       "      <td>6.2</td>\n",
       "      <td>3.4</td>\n",
       "      <td>5.4</td>\n",
       "      <td>2.3</td>\n",
       "      <td>2.0</td>\n",
       "    </tr>\n",
       "    <tr>\n",
       "      <th>149</th>\n",
       "      <td>5.9</td>\n",
       "      <td>3.0</td>\n",
       "      <td>5.1</td>\n",
       "      <td>1.8</td>\n",
       "      <td>2.0</td>\n",
       "    </tr>\n",
       "  </tbody>\n",
       "</table>\n",
       "<p>150 rows × 5 columns</p>\n",
       "</div>"
      ],
      "text/plain": [
       "      x1   x2   x3   x4    t\n",
       "0    5.1  3.5  1.4  0.2  0.0\n",
       "1    4.9  3.0  1.4  0.2  0.0\n",
       "2    4.7  3.2  1.3  0.2  0.0\n",
       "3    4.6  3.1  1.5  0.2  0.0\n",
       "4    5.0  3.6  1.4  0.2  0.0\n",
       "..   ...  ...  ...  ...  ...\n",
       "145  6.7  3.0  5.2  2.3  2.0\n",
       "146  6.3  2.5  5.0  1.9  2.0\n",
       "147  6.5  3.0  5.2  2.0  2.0\n",
       "148  6.2  3.4  5.4  2.3  2.0\n",
       "149  5.9  3.0  5.1  1.8  2.0\n",
       "\n",
       "[150 rows x 5 columns]"
      ]
     },
     "execution_count": 3,
     "metadata": {},
     "output_type": "execute_result"
    }
   ],
   "source": [
    "# ====================\n",
    "# データの確認\n",
    "# ====================\n",
    "\n",
    "import numpy as np\n",
    "import pandas as pd\n",
    "\n",
    "pd.DataFrame(np.hstack((x, t.reshape(150, 1))), columns=[\"x1\", \"x2\", \"x3\", \"x4\", \"t\"])"
   ]
  },
  {
   "cell_type": "markdown",
   "metadata": {},
   "source": [
    "PyTorchで扱うために、データをTensor形式に変換する。"
   ]
  },
  {
   "cell_type": "code",
   "execution_count": 4,
   "metadata": {},
   "outputs": [
    {
     "name": "stdout",
     "output_type": "stream",
     "text": [
      "変換前： <class 'numpy.ndarray'> <class 'numpy.ndarray'>\n",
      "変換後： <class 'torch.Tensor'> <class 'torch.Tensor'>\n"
     ]
    }
   ],
   "source": [
    "# ====================\n",
    "# データ形式の変換 (ndarray --> Tensor)\n",
    "# ====================\n",
    "\n",
    "import torch\n",
    "\n",
    "print(\"変換前：\", type(x), type(t))\n",
    "\n",
    "x = torch.tensor(x, dtype=torch.float32)\n",
    "t = torch.tensor(t, dtype=torch.int64)\n",
    "\n",
    "print(\"変換後：\", type(x), type(t))"
   ]
  },
  {
   "cell_type": "markdown",
   "metadata": {},
   "source": [
    "PyTorchでは、訓練時に使用するデータ（xとt）を1つのオブジェクト（dataset）にまとめて格納する"
   ]
  },
  {
   "cell_type": "code",
   "execution_count": 5,
   "metadata": {},
   "outputs": [
    {
     "name": "stdout",
     "output_type": "stream",
     "text": [
      "最初のサンプル： (tensor([5.1000, 3.5000, 1.4000, 0.2000]), tensor(0))\n",
      "最初のサンプルの特徴ベクトル： tensor([5.1000, 3.5000, 1.4000, 0.2000])\n",
      "最初のサンプルの目標値： tensor(0)\n",
      "最後のサンプル： (tensor([5.9000, 3.0000, 5.1000, 1.8000]), tensor(2))\n",
      "最後のサンプルの特徴ベクトル： tensor([5.9000, 3.0000, 5.1000, 1.8000])\n",
      "最後のサンプルの目標値： tensor(2)\n"
     ]
    }
   ],
   "source": [
    "# ====================\n",
    "# データをまとめてデータセットのオブジェクトを構築\n",
    "# ====================\n",
    "\n",
    "from torch.utils.data import TensorDataset\n",
    "\n",
    "dataset = TensorDataset(x, t)\n",
    "\n",
    "print(\"最初のサンプル：\", dataset[0])\n",
    "print(\"最初のサンプルの特徴ベクトル：\", dataset[0][0])\n",
    "print(\"最初のサンプルの目標値：\", dataset[0][1])\n",
    "\n",
    "print(\"最後のサンプル：\", dataset[-1])\n",
    "print(\"最後のサンプルの特徴ベクトル：\", dataset[-1][0])\n",
    "print(\"最後のサンプルの目標値：\", dataset[-1][1])"
   ]
  },
  {
   "cell_type": "markdown",
   "metadata": {},
   "source": [
    "データセットを、訓練用（training）・検証用（validation）・評価用（test）に分割する。\n",
    "\n",
    "深層学習では、充分多くのデータを扱えることが前提のため、交差検証をする代わりにハイパラ調整のための検証用データを切り分ける。\n"
   ]
  },
  {
   "cell_type": "code",
   "execution_count": 6,
   "metadata": {},
   "outputs": [
    {
     "data": {
      "text/plain": [
       "(90, 30, 30)"
      ]
     },
     "execution_count": 6,
     "metadata": {},
     "output_type": "execute_result"
    }
   ],
   "source": [
    "# ====================\n",
    "# 訓練用・検証用・評価用に6:2:2で分割\n",
    "# ====================\n",
    "\n",
    "from torch.utils.data import random_split\n",
    "\n",
    "n_train = int(len(dataset) * 0.6)\n",
    "n_val = int(len(dataset) * 0.2)\n",
    "n_test = len(dataset) - n_train - n_val\n",
    "\n",
    "# ランダムに分割するので、再現性の確保のためにランダムシードを固定\n",
    "torch.manual_seed(42)\n",
    "train, val, test = random_split(dataset, [n_train, n_val, n_test])\n",
    "\n",
    "len(train), len(val), len(test)"
   ]
  },
  {
   "cell_type": "markdown",
   "metadata": {},
   "source": [
    "DataLoader を用いてデータセットからバッチサイズ分のサンプルを取得し、ミニバッチ学習を行う。\n",
    "\n",
    "ミニバッチ学習では、訓練データのみシャッフルしながらサンプルを抽出する。"
   ]
  },
  {
   "cell_type": "code",
   "execution_count": 7,
   "metadata": {},
   "outputs": [],
   "source": [
    "# ====================\n",
    "# 訓練用・検証用・評価用の各データをDataLoaderに格納\n",
    "# ====================\n",
    "\n",
    "from torch.utils.data import DataLoader\n",
    "\n",
    "batch_size = 10\n",
    "\n",
    "train_loader = DataLoader(train, batch_size, shuffle=True)\n",
    "val_loader = DataLoader(val, batch_size)\n",
    "test_loader = DataLoader(test, batch_size)"
   ]
  },
  {
   "cell_type": "markdown",
   "metadata": {},
   "source": [
    "# 2. ネットワークの定義\n",
    "\n",
    "今回は、特徴量が4種類、クラス数が3種類なので、4次元1層の中間層を持つMLPを用いることにする。\n",
    "\n",
    "PyTorchでは、ネットワークの記述にクラスを使う。\n",
    "\n",
    "全結合層などパラメタを含んだ層を `__init__()` メソッド内に定義し、順伝播の計算を `forward()` メソッド内に記述する。"
   ]
  },
  {
   "cell_type": "code",
   "execution_count": 8,
   "metadata": {},
   "outputs": [],
   "source": [
    "# ====================\n",
    "# MLPを定義\n",
    "# ====================\n",
    "\n",
    "import torch.nn as nn\n",
    "import torch.nn.functional as F\n",
    "\n",
    "class Net(nn.Module):\n",
    "\n",
    "    # 使用するオブジェクトを定義\n",
    "    def __init__(self):\n",
    "        super(Net, self).__init__()\n",
    "        self.fc1 = nn.Linear(4, 4)  # 4層の入力層から4層の中間層への全結合\n",
    "        self.fc2 = nn.Linear(4, 3)  # 4層の中間層から3層の出力層への全結合\n",
    "    \n",
    "    # 順伝播\n",
    "    def forward(self, x):\n",
    "        h = F.relu(self.fc1(x))  # xを線形変換（fc1）し、非線形変換（relu）し、中間表現hを得る\n",
    "        y = self.fc2(h)  # 中間表現hを線形変換（fc2）し、出力yを得る\n",
    "        return y\n",
    "\n",
    "# ネットワークのインスタンスを作成\n",
    "net = Net()"
   ]
  },
  {
   "cell_type": "markdown",
   "metadata": {},
   "source": [
    "# 3. 損失関数の選択\n",
    "\n",
    "今回は分類問題を扱うので、損失関数としてクロスエントロピーを採用する。\n",
    "\n",
    "PyTorchでは、損失関数を `criterion` という名前で定義するのが慣習である。"
   ]
  },
  {
   "cell_type": "code",
   "execution_count": 9,
   "metadata": {},
   "outputs": [],
   "source": [
    "criterion = nn.CrossEntropyLoss()"
   ]
  },
  {
   "cell_type": "markdown",
   "metadata": {},
   "source": [
    "# 4. 最適化手法の選択\n",
    "\n",
    "パラメタ更新に用いる最適化手法を選ぶ。\n",
    "\n",
    "PyTorchでは、最適化手法を `optimizer` という名前で定義するのが慣習である。\n",
    "\n",
    "今回は、基本的な最適化手法である確率的勾配降下法（SGD）を採用する。\n",
    "\n",
    "Optimizerの引数には、ネットワークのパラメタと学習率を設定する。"
   ]
  },
  {
   "cell_type": "code",
   "execution_count": 10,
   "metadata": {},
   "outputs": [],
   "source": [
    "optimizer = torch.optim.SGD(net.parameters(), lr=0.01)"
   ]
  },
  {
   "cell_type": "markdown",
   "metadata": {},
   "source": [
    "# 5. ネットワークの学習\n",
    "\n",
    "深層学習では、GPUによる高速演算を利用するのが一般的である。\n",
    "\n",
    "GPUを使う際には、訓練時にモデルとデータの両方をGPUのメモリ上に転送する必要がある。"
   ]
  },
  {
   "cell_type": "code",
   "execution_count": 11,
   "metadata": {},
   "outputs": [
    {
     "data": {
      "text/plain": [
       "device(type='cuda', index=0)"
      ]
     },
     "execution_count": 11,
     "metadata": {},
     "output_type": "execute_result"
    }
   ],
   "source": [
    "# ====================\n",
    "# モデルをGPUへ転送\n",
    "# ====================\n",
    "\n",
    "device = torch.device(\"cuda:0\" if torch.cuda.is_available() else \"cpu\")\n",
    "\n",
    "net = net.to(device)\n",
    "\n",
    "device"
   ]
  },
  {
   "cell_type": "code",
   "execution_count": 12,
   "metadata": {},
   "outputs": [],
   "source": [
    "# ====================\n",
    "# 正解率の計算（検証セット評価セット用）\n",
    "# ====================\n",
    "\n",
    "def calc_acc(data_loader):\n",
    "\n",
    "    with torch.no_grad():\n",
    "        accs = list()\n",
    "        for batch in data_loader:\n",
    "            x, t = batch\n",
    "            x = x.to(device)\n",
    "            t = t.to(device)\n",
    "            y = net(x)\n",
    "\n",
    "            label = torch.argmax(y, dim=1)\n",
    "            acc = (label == t).sum() * 1.0 / len(t)\n",
    "            accs.append(acc)\n",
    "\n",
    "    return torch.tensor(accs).mean()"
   ]
  },
  {
   "cell_type": "code",
   "execution_count": null,
   "metadata": {},
   "outputs": [],
   "source": [
    "# ====================\n",
    "# 訓練ループ\n",
    "# ====================\n",
    "\n",
    "max_epoch = 30\n",
    "\n",
    "for epoch in range(max_epoch):\n",
    "\n",
    "    # ミニバッチ学習\n",
    "    for batch in train_loader:\n",
    "\n",
    "        # バッチサイズ分のサンプルを抽出\n",
    "        x, t = batch  # 1\n",
    "\n",
    "        # データをGPUへ転送\n",
    "        x = x.to(device)\n",
    "        t = t.to(device)\n",
    "\n",
    "        # 勾配を初期化\n",
    "        optimizer.zero_grad()\n",
    "\n",
    "        # 順伝播\n",
    "        y = net(x)  # 2\n",
    "        loss = criterion(y, t)  # 3\n",
    "\n",
    "        # 学習状況の確認\n",
    "        label = torch.argmax(y, dim=1)\n",
    "        acc = (label == t).sum() * 1.0 / len(t)\n",
    "        print(\"epoch: %d    loss: %.3f    acc: %.3f\" % (epoch+1, loss.item(), acc))\n",
    "\n",
    "        # 誤差逆伝播\n",
    "        loss.backward()  # 4\n",
    "        optimizer.step()  # 5\n",
    "    \n",
    "    # 検証データの性能を確認\n",
    "    val_acc = calc_acc(val_loader)\n",
    "    print(\"epoch: %d    val_acc: %.3f\" % (epoch+1, val_acc))"
   ]
  },
  {
   "cell_type": "code",
   "execution_count": 14,
   "metadata": {},
   "outputs": [
    {
     "data": {
      "text/plain": [
       "tensor(0.5000)"
      ]
     },
     "execution_count": 14,
     "metadata": {},
     "output_type": "execute_result"
    }
   ],
   "source": [
    "# ====================\n",
    "# 評価用データで性能確認\n",
    "# ====================\n",
    "\n",
    "test_acc = calc_acc(test_loader)\n",
    "test_acc"
   ]
  },
  {
   "cell_type": "code",
   "execution_count": 19,
   "metadata": {},
   "outputs": [
    {
     "data": {
      "text/plain": [
       "<AxesSubplot:>"
      ]
     },
     "execution_count": 19,
     "metadata": {},
     "output_type": "execute_result"
    },
    {
     "data": {
      "image/png": "[encoded data removed]",
      "text/plain": [
       "<Figure size 864x504 with 2 Axes>"
      ]
     },
     "metadata": {
      "needs_background": "light"
     },
     "output_type": "display_data"
    }
   ],
   "source": [
    "#\n",
    "# confusion_matrix\n",
    "#\n",
    "\n",
    "nb_classes = 3\n",
    "confusion_matrix = torch.zeros(nb_classes, nb_classes)\n",
    "with torch.no_grad():\n",
    "    for batch in test_loader:\n",
    "        x, t = batch\n",
    "        x = x.to(device)\n",
    "        t = t.to(device)\n",
    "        y = net(x)\n",
    "\n",
    "        label = torch.argmax(y, dim=1)\n",
    "        for t_conf, p in zip(t.view(-1), label.view(-1)):\n",
    "            confusion_matrix[t_conf.long(), p.long()] += 1\n",
    "\n",
    "import pandas as pd\n",
    "import seaborn as sn\n",
    "import matplotlib.pyplot as plt\n",
    "\n",
    "\n",
    "confusion_matrix_numpy = confusion_matrix.to('cpu').detach().numpy().copy()\n",
    "df_cmx = pd.DataFrame(confusion_matrix_numpy)\n",
    "plt.figure(figsize= (12,7))\n",
    "sn.heatmap(df_cmx, annot=True, fmt='g', cmap='Blues')"
   ]
  }
 ],
 "metadata": {
  "kernelspec": {
   "display_name": "Python 3.8.10 ('.cuda116': venv)",
   "language": "python",
   "name": "python3"
  },
  "language_info": {
   "codemirror_mode": {
    "name": "ipython",
    "version": 3
   },
   "file_extension": ".py",
   "mimetype": "text/x-python",
   "name": "python",
   "nbconvert_exporter": "python",
   "pygments_lexer": "ipython3",
   "version": "3.8.10"
  },
  "orig_nbformat": 4,
  "vscode": {
   "interpreter": {
    "hash": "14d1fb042f216637d05a2d1db7ab9431559fb26a743a78158ba3a741f4f51867"
   }
  }
 },
 "nbformat": 4,
 "nbformat_minor": 2
}
